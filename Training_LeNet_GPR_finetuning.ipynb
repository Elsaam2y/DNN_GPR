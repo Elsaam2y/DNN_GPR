{
 "cells": [
  {
   "cell_type": "markdown",
   "metadata": {},
   "source": [
    "### This session is made to train the lenet using lasagne and then perform FPGA speed up on PYNQ"
   ]
  },
  {
   "cell_type": "code",
   "execution_count": 1,
   "metadata": {
    "collapsed": false
   },
   "outputs": [],
   "source": [
    "#import caffe \n",
    "import sys\n",
    "caffe_root = '/home/xilinx/caffe/'  # this file should be run from {caffe_root}/examples (otherwise change this line)\n",
    "sys.path.insert(0, caffe_root + 'python')\n",
    "import caffe"
   ]
  },
  {
   "cell_type": "markdown",
   "metadata": {},
   "source": [
    "### Load the pretrained Caffe network"
   ]
  },
  {
   "cell_type": "code",
   "execution_count": 2,
   "metadata": {
    "collapsed": false
   },
   "outputs": [],
   "source": [
    "net_caffe = caffe.Net('lenet.prototxt', 'lenet_iter_10000.caffemodel', caffe.TEST)"
   ]
  },
  {
   "cell_type": "markdown",
   "metadata": {},
   "source": [
    "### Import Lasagne"
   ]
  },
  {
   "cell_type": "code",
   "execution_count": 3,
   "metadata": {
    "collapsed": false
   },
   "outputs": [],
   "source": [
    "import os\n",
    "import lasagne\n",
    "import numpy as np\n",
    "import theano\n",
    "import theano.tensor as T\n",
    "from lasagne.layers import InputLayer, DropoutLayer, DenseLayer, NonlinearityLayer\n",
    "#from lasagne.layers.dnn import Conv2DDNNLayer as ConvLayer\n",
    "from lasagne.layers import Conv2DLayer as ConvLayer\n",
    "from lasagne.layers import Pool2DLayer as PoolLayer\n",
    "from lasagne.nonlinearities import softmax, rectify, linear\n",
    "import conv_fpga\n",
    "from conv_fpga import FPGA_LENET\n",
    "from conv_fpga import FPGAQuickTest\n",
    "#from conv_fpga import Conv2DLayer as ConvLayer\n",
    "from conv_fpga import FPGAWeightLoader as FPGALoadW\n",
    "from lasagne.utils import floatX"
   ]
  },
  {
   "cell_type": "code",
   "execution_count": 4,
   "metadata": {
    "collapsed": false
   },
   "outputs": [
    {
     "data": {
      "text/plain": [
       "(1, 1000)"
      ]
     },
     "execution_count": 4,
     "metadata": {},
     "output_type": "execute_result"
    }
   ],
   "source": [
    "# load the GPR dataset and start training\n",
    "data = np.load('data_train.npz')\n",
    "train_data = data['arr_0'].reshape(1000, 1, 28, 28)\n",
    "#input_var = test_data # added line for lasgane \n",
    "train_label = data['arr_1']\n",
    "#target_var = test_label # added line for lasagne \n",
    "train_data[:].shape\n",
    "train_label.shape"
   ]
  },
  {
   "cell_type": "code",
   "execution_count": 6,
   "metadata": {
    "collapsed": false
   },
   "outputs": [],
   "source": [
    "# create a lasagne network\n",
    "### this is the version corrosponding to example mentioned in \n",
    "# http://luizgh.github.io/libraries/2015/12/08/getting-started-with-lasagne/\n",
    "#input_var = T.tensor4('input')\n",
    "#target_var = T.ivector('targets')\n",
    "\n",
    "input_var = T.tensor4('train_data')\n",
    "target_var = T.ivector('train_labels')\n",
    "data_size=(None,1,28,28) # Batch size x Img Channels x Height x Width\n",
    "output_size=2 # We will run the example in mnist - 10 digits\n",
    "\n",
    "## please remember that I have changed these parameters to match the lenet network and the originat network can \n",
    "#be found in lenet_gpr file in Myfolder\n",
    "\n",
    "\n",
    "# define the network\n",
    "#net = {}\n",
    "\n",
    "#Input layer:\n",
    "#net['data'] = lasagne.layers.InputLayer(data_size, input_var=input_var)\n",
    "\n",
    "#Convolution + Pooling\n",
    "#net['conv1'] = lasagne.layers.Conv2DLayer(net['data'], num_filters=6, filter_size=5)\n",
    "#net['pool1'] = lasagne.layers.Pool2DLayer(net['conv1'], pool_size=2)\n",
    "\n",
    "#net['conv2'] = lasagne.layers.Conv2DLayer(net['pool1'], num_filters=10, filter_size=5)\n",
    "#net['pool2'] = lasagne.layers.Pool2DLayer(net['conv2'], pool_size=2)\n",
    "\n",
    "\n",
    "#Fully-connected + dropout\n",
    "#net['fc1'] = lasagne.layers.DenseLayer(net['pool2'], num_units=50) # value to changed from 100 to 50\n",
    "\n",
    "#net['drop1'] = lasagne.layers.DropoutLayer(net['fc1'],  p=0.5)\n",
    "#net['fc2'] = lasagne.layers.DenseLayer(net['fc1'], num_units=50) # modification to be lenet- I changed the valus also to 50 from 100\n",
    "\n",
    "#Output layer:\n",
    "#net['out'] = lasagne.layers.DenseLayer(net['drop1'], num_units=output_size, \n",
    "#                                       nonlinearity=lasagne.nonlinearities.softmax)\n",
    "#net['out'] = NonlinearityLayer(net['fc2'], softmax) # modification to be lenet\n",
    "\n",
    "net = {}\n",
    "net['data'] = InputLayer(data_size, input_var=input_var)\n",
    "net['conv1'] = ConvLayer(net['data'], num_filters=20, filter_size=5, nonlinearity=linear)\n",
    "net['pool1'] = PoolLayer(net['conv1'], pool_size=2, stride=2, mode='max', ignore_border=False)\n",
    "net['conv2'] = ConvLayer(net['pool1'], num_filters=50, filter_size=5, nonlinearity=linear)\n",
    "net['pool2'] = PoolLayer(net['conv2'], pool_size=2, stride=2, mode='max', ignore_border=False)\n",
    "net['ip1'] = DenseLayer(net['pool2'], num_units=100, nonlinearity = rectify)\n",
    "net['ip2'] = DenseLayer(net['ip1'], num_units=2, nonlinearity = None)\n",
    "net['out'] = NonlinearityLayer(net['ip2'], softmax)\n"
   ]
  },
  {
   "cell_type": "code",
   "execution_count": 7,
   "metadata": {
    "collapsed": true
   },
   "outputs": [],
   "source": [
    "# copy the parameters from the trained caffe model to the lasagne network\n",
    "\n",
    "import numpy as np\n",
    "\n",
    "layers_caffe = dict(zip(list(net_caffe._layer_names), net_caffe.layers))\n",
    "\n",
    "for name, layer in net.items():\n",
    "    try:\n",
    "        if name=='ip1'or name=='ip2':\n",
    "            layer.W.remove()\n",
    "            layer.b.remove()\n",
    "        else:\n",
    "            layer.W.set_value(layers_caffe[name].blobs[0].data[:,:,::-1,::-1])\n",
    "            layer.b.set_value(layers_caffe[name].blobs[1].data)\n",
    "            \n",
    "    except AttributeError:\n",
    "        continue"
   ]
  },
  {
   "cell_type": "code",
   "execution_count": 8,
   "metadata": {
    "collapsed": true
   },
   "outputs": [],
   "source": [
    "#define the cost function and unpade rule \n",
    "#Define hyperparameters. These could also be symbolic variables \n",
    "lr = 1e-2\n",
    "weight_decay = 1e-5\n",
    "\n",
    "#Loss function: mean cross-entropy\n",
    "prediction = lasagne.layers.get_output(net['out'])\n",
    "loss = lasagne.objectives.categorical_crossentropy(prediction, target_var)\n",
    "loss = loss.mean()\n",
    "\n",
    "#Also add weight decay to the cost function\n",
    "weightsl2 = lasagne.regularization.regularize_network_params(net['out'], lasagne.regularization.l2)\n",
    "loss += weight_decay * weightsl2\n",
    "\n",
    "#Get the update rule for Stochastic Gradient Descent with Nesterov Momentum\n",
    "params = lasagne.layers.get_all_params(net['out'], trainable=True)\n",
    "updates = lasagne.updates.sgd(\n",
    "        loss, params, learning_rate=lr)"
   ]
  },
  {
   "cell_type": "code",
   "execution_count": 9,
   "metadata": {
    "collapsed": false
   },
   "outputs": [],
   "source": [
    "#compiling test and training function\n",
    "\n",
    "train_fn = theano.function([input_var, target_var], loss, updates=updates, on_unused_input='ignore')\n",
    "\n",
    "test_prediction = lasagne.layers.get_output(net['out'], deterministic=True)\n",
    "test_loss = lasagne.objectives.categorical_crossentropy(test_prediction,\n",
    "                                                        target_var)\n",
    "test_loss = test_loss.mean()\n",
    "test_acc = T.mean(T.eq(T.argmax(test_prediction, axis=1), target_var),\n",
    "                  dtype=theano.config.floatX)\n",
    "\n",
    "val_fn = theano.function([input_var, target_var], [test_loss, test_acc])\n",
    "get_preds = theano.function([input_var], test_prediction)"
   ]
  },
  {
   "cell_type": "code",
   "execution_count": 10,
   "metadata": {
    "collapsed": false
   },
   "outputs": [
    {
     "name": "stdout",
     "output_type": "stream",
     "text": [
      "Training completed in 2233.25 seconds.\n"
     ]
    }
   ],
   "source": [
    "# train the model \n",
    "import time\n",
    "start_time = time.time()\n",
    "batch_size = 50\n",
    "epochs = 30\n",
    "data = np.load('data_train.npz')\n",
    "x_train = data['arr_0'].reshape(1000, 1, 28, 28)\n",
    "y_train  = data['arr_1']\n",
    "y_train = y_train[0]\n",
    "n_examples = x_train.shape[0]\n",
    "n_batches = n_examples / batch_size\n",
    "for epoch in range(epochs):\n",
    "    for batch in range(20):\n",
    "        x_batch = x_train[batch*batch_size: (batch+1) * batch_size]\n",
    "        y_batch = y_train[batch*batch_size: (batch+1) * batch_size]\n",
    "        \n",
    "        train_fn(x_batch, y_batch) # This is where the model gets updated\n",
    "\n",
    "        \n",
    "end_time = time.time()\n",
    "print('Training completed in %.2f seconds.' % (end_time - start_time))"
   ]
  },
  {
   "cell_type": "code",
   "execution_count": 11,
   "metadata": {
    "collapsed": false
   },
   "outputs": [
    {
     "name": "stdout",
     "output_type": "stream",
     "text": [
      "Test error: 0.018229\n",
      "acc: 0.981771\n",
      "Classifying 384 images completed in 10.16 seconds.\n"
     ]
    }
   ],
   "source": [
    "## this part will be processed on FPGA to check the influence of the FPGA \n",
    "# test the model\n",
    "start_time = time.time()\n",
    "test = np.load('data_test.npz')\n",
    "x_test = test['arr_0'].reshape(384, 1, 28, 28)\n",
    "y_test = test['arr_1']\n",
    "y_test = y_test[0]\n",
    "\n",
    "loss, acc = val_fn(x_test, y_test)\n",
    "test_error = 1 - acc\n",
    "accuracy = acc\n",
    "print('Test error: %f' % test_error)\n",
    "print('acc: %f' % accuracy)\n",
    "\n",
    "end_time = time.time()\n",
    "print('Classifying %d images completed in %.2f seconds.' % (x_test.shape[0], end_time - start_time))"
   ]
  },
  {
   "cell_type": "markdown",
   "metadata": {},
   "source": [
    "### Copy the parameters from CPU to FPGA OnChip Memory"
   ]
  },
  {
   "cell_type": "code",
   "execution_count": 12,
   "metadata": {
    "collapsed": false
   },
   "outputs": [
    {
     "name": "stdout",
     "output_type": "stream",
     "text": [
      "weight shape (20, 1, 5, 5)\n",
      "Loading Started for Layer  1\n",
      "Elapsed Test Time:  0.004733435999696667\n",
      "Loading Finished for Layer  1\n",
      "weight shape (50, 20, 5, 5)\n",
      "Loading Started for Layer  2\n",
      "Elapsed Test Time:  0.0014148919999570353\n",
      "Loading Finished for Layer  2\n",
      "weight shape (100, 50, 4, 4)\n",
      "Loading Started for Layer  3\n",
      "Elapsed Test Time:  0.0039059809996615513\n",
      "Loading Finished for Layer  3\n",
      "weight shape (2, 100, 1, 1)\n",
      "Loading Started for Layer  4\n",
      "Elapsed Test Time:  0.00045433800005412195\n",
      "Loading Finished for Layer  4\n"
     ]
    }
   ],
   "source": [
    "#FPGALoadW(weight, status, IFDim, OFDim, PadDim)\n",
    "weight = net['conv1'].W.get_value()\n",
    "FPGALoadW(weight, 1, 28, 24, 0)\n",
    "weight = net['conv2'].W.get_value()\n",
    "FPGALoadW(weight, 2, 12, 8, 0)\n",
    "weight = net['ip1'].W.get_value()\n",
    "weight = np.transpose(weight)\n",
    "weight = weight.reshape(100, 50, 4, 4)\n",
    "FPGALoadW(weight, 3, 4, 1, 0, flip_filters=False)\n",
    "weight = net['ip2'].W.get_value()\n",
    "weight = np.transpose(weight)\n",
    "weight = weight.reshape(2, 100, 1, 1)\n",
    "FPGALoadW(weight, 4, 1, 1, 0, flip_filters=False)"
   ]
  },
  {
   "cell_type": "markdown",
   "metadata": {
    "collapsed": false
   },
   "source": [
    "# Trying it out\n",
    "Let's see if that worked. \n",
    "\n",
    "### Import numpy and set up plotting\n",
    "### Import time"
   ]
  },
  {
   "cell_type": "code",
   "execution_count": 13,
   "metadata": {
    "collapsed": true
   },
   "outputs": [],
   "source": [
    "import gzip\n",
    "import _pickle as cPickle\n",
    "import matplotlib.pyplot as plt\n",
    "import time\n",
    "\n",
    "%matplotlib inline"
   ]
  },
  {
   "cell_type": "markdown",
   "metadata": {},
   "source": [
    "### Download some test data\n",
    "Load test mnist handwritting data."
   ]
  },
  {
   "cell_type": "code",
   "execution_count": 14,
   "metadata": {
    "collapsed": false
   },
   "outputs": [],
   "source": [
    "# data = np.load('test_cpr.npz')\n",
    "# test_data = data['data'].reshape(10000, 1, 28, 28)\n",
    "# test_label = data['label']\n",
    "##\n",
    "test = np.load('data_train.npz')\n",
    "x_test = data['arr_0'].reshape(1000, 1, 28, 28)\n",
    "y_test = data['arr_1']\n",
    "\n",
    "#plt.figure(figsize=(5, 5))\n",
    "#plt.imshow(test_data[0][0], interpolation='nearest', cmap=plt.get_cmap('gray'))"
   ]
  },
  {
   "cell_type": "markdown",
   "metadata": {},
   "source": [
    "### FPGA Deployment (Lasagne Layer)"
   ]
  },
  {
   "cell_type": "code",
   "execution_count": 15,
   "metadata": {
    "collapsed": false
   },
   "outputs": [],
   "source": [
    "FPGA_net = {}\n",
    "FPGA_net['input'] = InputLayer((None, 1, 28, 28))\n",
    "FPGA_net['convnet'] = FPGA_LENET(FPGA_net['input'])\n",
    "FPGA_net['prob'] = NonlinearityLayer(FPGA_net['convnet'], softmax)"
   ]
  },
  {
   "cell_type": "code",
   "execution_count": 16,
   "metadata": {
    "collapsed": false
   },
   "outputs": [
    {
     "name": "stdout",
     "output_type": "stream",
     "text": [
      "Elapsed Test Time:  0.1826576120001846\n",
      "CPU times: user 600 ms, sys: 460 ms, total: 1.06 s\n",
      "Wall time: 550 ms\n",
      "0.5655457973480225\n"
     ]
    }
   ],
   "source": [
    "#batch_size = 500\n",
    "batch_size = 50\n",
    "start_time = time.time()\n",
    "\n",
    "%time prob = lasagne.layers.get_output(FPGA_net['prob'], floatX(x_test[0:batch_size]), deterministic=True).eval()\n",
    "FPGA_predicted = np.argmax(prob, 1)\n",
    "\n",
    "end_time = time.time()\n",
    "print(end_time-start_time)"
   ]
  },
  {
   "cell_type": "code",
   "execution_count": 18,
   "metadata": {
    "collapsed": false
   },
   "outputs": [
    {
     "name": "stdout",
     "output_type": "stream",
     "text": [
      "0.88\n"
     ]
    }
   ],
   "source": [
    "FPGA_accuracy = np.mean(FPGA_predicted == y_test[0][0:batch_size])\n",
    "#print(FPGA_predicted)\n",
    "#print(test_label[0][0:600])\n",
    "print(FPGA_accuracy)"
   ]
  },
  {
   "cell_type": "markdown",
   "metadata": {},
   "source": [
    "### FPGA Deployment (QuickTest Function)"
   ]
  },
  {
   "cell_type": "code",
   "execution_count": 19,
   "metadata": {
    "collapsed": false
   },
   "outputs": [
    {
     "name": "stdout",
     "output_type": "stream",
     "text": [
      "Elapsed Test Time:  0.03246576800029288\n",
      "CPU times: user 30 ms, sys: 90 ms, total: 120 ms\n",
      "Wall time: 61.6 ms\n",
      "0.0716094970703125\n"
     ]
    }
   ],
   "source": [
    "batch_size = 10\n",
    "start_time = time.time()\n",
    "\n",
    "\n",
    "OFMDim = 1\n",
    "OFMCH = 2\n",
    "%time FPGA_output = FPGAQuickTest(x_test, batch_size, OFMDim, OFMCH)\n",
    "FPGA_predicted = np.argmax(FPGA_output.reshape(batch_size, -1), 1)\n",
    "\n",
    "end_time = time.time()\n",
    "print(end_time-start_time)"
   ]
  },
  {
   "cell_type": "code",
   "execution_count": 20,
   "metadata": {
    "collapsed": false
   },
   "outputs": [
    {
     "name": "stdout",
     "output_type": "stream",
     "text": [
      "0.8\n"
     ]
    }
   ],
   "source": [
    "FPGA_accuracy = np.mean(FPGA_predicted == y_test[0][0:batch_size])\n",
    "print(FPGA_accuracy)"
   ]
  },
  {
   "cell_type": "markdown",
   "metadata": {},
   "source": [
    "### Graph some images and predictions"
   ]
  },
  {
   "cell_type": "code",
   "execution_count": 21,
   "metadata": {
    "collapsed": false
   },
   "outputs": [
    {
     "data": {
      "image/png": "[encoded data removed]",
      "text/plain": [
       "<matplotlib.figure.Figure at 0x28aeb870>"
      ]
     },
     "metadata": {},
     "output_type": "display_data"
    }
   ],
   "source": [
    "def make_image(X):\n",
    "    im = np.swapaxes(X.T, 0, 1)\n",
    "    im = im - im.min()\n",
    "    im = im * 1.0 / im.max()\n",
    "    return im\n",
    "\n",
    "plt.figure(figsize=(16, 5))\n",
    "for i in range(0, 10):\n",
    "    plt.subplot(1, 10, i+1)\n",
    "    plt.imshow(make_image(x_test[i][0]), interpolation='nearest', cmap=plt.get_cmap('gray'))\n",
    "    true = y_test[0][i]\n",
    "    pred = FPGA_predicted[i]\n",
    "    color = 'green' if true == pred else 'red'\n",
    "    plt.text(0, 0, true, color='black', bbox=dict(facecolor='white', alpha=1))\n",
    "    plt.text(0, 32, pred, color=color, bbox=dict(facecolor='white', alpha=1))\n",
    "\n",
    "    plt.axis('off')"
   ]
  },
  {
   "cell_type": "markdown",
   "metadata": {},
   "source": [
    "### ARM CPU Deployment"
   ]
  },
  {
   "cell_type": "code",
   "execution_count": 22,
   "metadata": {
    "collapsed": false
   },
   "outputs": [
    {
     "name": "stdout",
     "output_type": "stream",
     "text": [
      "CPU times: user 2.8 s, sys: 1.61 s, total: 4.41 s\n",
      "Wall time: 2.21 s\n",
      "2.2265231609344482\n"
     ]
    }
   ],
   "source": [
    "batch_size = 50\n",
    "start_time = time.time()\n",
    "\n",
    "%time prob = np.array(lasagne.layers.get_output(net['out'], floatX(x_test[0:batch_size]), deterministic=True).eval())\n",
    "predicted = np.argmax(prob, 1)\n",
    "\n",
    "end_time = time.time()\n",
    "print(end_time-start_time)"
   ]
  },
  {
   "cell_type": "markdown",
   "metadata": {},
   "source": [
    "### Check our accuracy\n",
    "We expect around 90%"
   ]
  },
  {
   "cell_type": "code",
   "execution_count": 23,
   "metadata": {
    "collapsed": false
   },
   "outputs": [
    {
     "name": "stdout",
     "output_type": "stream",
     "text": [
      "1.0\n"
     ]
    }
   ],
   "source": [
    "accuracy = np.mean(predicted == y_test[0][0:batch_size])\n",
    "# print(predicted)\n",
    "# print(test_label[0][0:batch_size])\n",
    "print(accuracy)"
   ]
  }
 ],
 "metadata": {
  "kernelspec": {
   "display_name": "Python 3",
   "language": "python",
   "name": "python3"
  },
  "language_info": {
   "codemirror_mode": {
    "name": "ipython",
    "version": 3
   },
   "file_extension": ".py",
   "mimetype": "text/x-python",
   "name": "python",
   "nbconvert_exporter": "python",
   "pygments_lexer": "ipython3",
   "version": "3.4.3+"
  }
 },
 "nbformat": 4,
 "nbformat_minor": 0
}
